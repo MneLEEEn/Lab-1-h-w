{
 "cells": [
  {
   "cell_type": "code",
   "execution_count": null,
   "metadata": {},
   "outputs": [
    {
     "name": "stdout",
     "output_type": "stream",
     "text": [
      "{'s': 'Hi'}\n"
     ]
    }
   ],
   "source": [
    "# Task 1:\n",
    "class StringClass:\n",
    "    def __init__(self):\n",
    "        self.s = \"\"\n",
    "    \n",
    "    def getString(self):\n",
    "        self.s = input(\"Enter a string: \")\n",
    "    \n",
    "    def printString(self):\n",
    "        print(self.s.upper())\n",
    "    \n",
    "pt = StringClass()\n",
    "pt.getString()\n",
    "print(pt.__dict__)\n"
   ]
  },
  {
   "cell_type": "code",
   "execution_count": null,
   "metadata": {},
   "outputs": [
    {
     "name": "stdout",
     "output_type": "stream",
     "text": [
      "121\n",
      "{'length': 11}\n"
     ]
    }
   ],
   "source": [
    "# Task 2: \n",
    "class Shape:\n",
    "    def area(self):\n",
    "        return 0\n",
    "\n",
    "class Square(Shape):\n",
    "    def __init__(self, length):\n",
    "        self.length = length\n",
    "    \n",
    "    def area(self):\n",
    "        return self.length ** 2\n",
    "\n",
    "pt1 = Shape()\n",
    "print(pt1.area())\n",
    "\n",
    "pt = Square(11)\n",
    "pt.area()   \n",
    "print(pt.__dict__)\n",
    "print(pt.area())"
   ]
  },
  {
   "cell_type": "code",
   "execution_count": null,
   "metadata": {},
   "outputs": [
    {
     "name": "stdout",
     "output_type": "stream",
     "text": [
      "{'length': 5, 'width': 2}\n",
      "10\n",
      "0\n"
     ]
    }
   ],
   "source": [
    "# Task 3: \n",
    "class Shape:\n",
    "    def area(self):\n",
    "        return 0\n",
    "\n",
    "class Rectangle(Shape):\n",
    "    def __init__(self, length, width):\n",
    "        self.length = length\n",
    "        self.width = width\n",
    "    \n",
    "    def area(self):\n",
    "        return self.length * self.width\n",
    "\n",
    "pt = Rectangle(5, 2)\n",
    "pt.area()   \n",
    "print(pt.__dict__)\n",
    "print(pt.area())\n",
    "\n",
    "pt1 = Shape()\n",
    "print(pt1.area())"
   ]
  },
  {
   "cell_type": "code",
   "execution_count": 14,
   "metadata": {},
   "outputs": [
    {
     "name": "stdout",
     "output_type": "stream",
     "text": [
      "Point coordinates: (3, 9)\n",
      "None\n",
      "{'x': 2, 'y': 5}\n",
      "4.123105625617661\n"
     ]
    }
   ],
   "source": [
    "import math\n",
    "\n",
    "# Task 4: \n",
    "class Point:\n",
    "    def __init__(self, x, y):\n",
    "        self.x = x\n",
    "        self.y = y\n",
    "    \n",
    "    def show(self):\n",
    "        print(f\"Point coordinates: ({self.x}, {self.y})\")\n",
    "    \n",
    "    def move(self, a, b):\n",
    "        self.x = a\n",
    "        self.y = b\n",
    "    \n",
    "    def dist(self, other_point):\n",
    "        return math.sqrt((self.x - other_point.x) ** 2 + (self.y - other_point.y) ** 2)\n",
    "    \n",
    "pt = Point(3, 9)\n",
    "print(pt.show())\n",
    "pt.move(2, 5)\n",
    "print(pt.__dict__)\n",
    "dp = Point(3,9)\n",
    "pt.dist(dp)\n",
    "print(pt.dist(dp))"
   ]
  },
  {
   "cell_type": "code",
   "execution_count": 17,
   "metadata": {},
   "outputs": [
    {
     "name": "stdout",
     "output_type": "stream",
     "text": [
      "Deposited 50. New balance: 1050\n",
      "{'owner': 'Arman', 'balance': 1050}\n",
      "Insufficient funds!\n",
      "None\n",
      "Withdrawn 200. New balance: 850\n",
      "None\n"
     ]
    }
   ],
   "source": [
    "# Task 5: \n",
    "class Account:\n",
    "    def __init__(self, owner, balance=0):\n",
    "        self.owner = owner\n",
    "        self.balance = balance\n",
    "    \n",
    "    def deposit(self, amount):\n",
    "        self.balance += amount\n",
    "        print(f\"Deposited {amount}. New balance: {self.balance}\")\n",
    "    \n",
    "    def withdraw(self, amount):\n",
    "        if amount > self.balance:\n",
    "            print(\"Insufficient funds!\")\n",
    "        else:\n",
    "            self.balance -= amount\n",
    "            print(f\"Withdrawn {amount}. New balance: {self.balance}\")\n",
    "\n",
    "bt = Account(\"Arman\", 1000)\n",
    "bt.deposit(50)\n",
    "print(bt.__dict__)\n",
    "print(bt.withdraw(2000))\n",
    "print(bt.withdraw(200))\n"
   ]
  },
  {
   "cell_type": "code",
   "execution_count": 18,
   "metadata": {},
   "outputs": [
    {
     "name": "stdout",
     "output_type": "stream",
     "text": [
      "Prime numbers: [3, 7, 19, 29, 31]\n"
     ]
    }
   ],
   "source": [
    "# Task 6: \n",
    "def is_prime(n):\n",
    "    if n < 2:\n",
    "        return False\n",
    "    for i in range(2, int(math.sqrt(n)) + 1):\n",
    "        if n % i == 0:\n",
    "            return False\n",
    "    return True\n",
    "\n",
    "numbers = [10, 15, 3, 7, 19, 21, 29, 31]\n",
    "prime_numbers = list(filter(lambda x: is_prime(x), numbers))\n",
    "print(\"Prime numbers:\", prime_numbers)"
   ]
  },
  {
   "cell_type": "code",
   "execution_count": 19,
   "metadata": {},
   "outputs": [
    {
     "name": "stdout",
     "output_type": "stream",
     "text": [
      "2834.9523099999997\n"
     ]
    }
   ],
   "source": [
    "def grams_to_ounces(grams):\n",
    "    return 28.3495231 * grams\n",
    "print(grams_to_ounces(100))"
   ]
  },
  {
   "cell_type": "code",
   "execution_count": 20,
   "metadata": {},
   "outputs": [
    {
     "name": "stdout",
     "output_type": "stream",
     "text": [
      "77.22222222222223\n"
     ]
    }
   ],
   "source": [
    "def fahrenheit_to_celsius(fahrenheit):\n",
    "    return (5 / 9) * (fahrenheit - 32)\n",
    "print(fahrenheit_to_celsius(171))"
   ]
  },
  {
   "cell_type": "code",
   "execution_count": null,
   "metadata": {},
   "outputs": [
    {
     "name": "stdout",
     "output_type": "stream",
     "text": [
      "(23, 12)\n"
     ]
    }
   ],
   "source": [
    "def solve(numheads, numlegs):\n",
    "    for chickens in range(numheads + 1):\n",
    "        rabbits = numheads - chickens\n",
    "        if (chickens * 2 + rabbits * 4) == numlegs:\n",
    "            return chickens, rabbits\n",
    "    return \"No solution\"\n",
    "\n",
    "print(solve(35, 94))\n"
   ]
  },
  {
   "cell_type": "code",
   "execution_count": null,
   "metadata": {},
   "outputs": [],
   "source": [
    "def is_prime(n):\n",
    "    if n < 2:\n",
    "        return False\n",
    "    for i in range(2, int(n ** 0.5) + 1):\n",
    "        if n % i == 0:\n",
    "            return False\n",
    "    return True\n",
    "\n",
    "def filter_prime(numbers):\n",
    "    return [num for num in numbers if is_prime(num)]"
   ]
  },
  {
   "cell_type": "code",
   "execution_count": null,
   "metadata": {},
   "outputs": [],
   "source": [
    "from itertools import permutations\n",
    "\n",
    "def print_permutations(string):\n",
    "    perms = permutations(string)\n",
    "    for perm in perms:\n",
    "        print(\"\".join(perm))\n",
    "\n",
    "print(print_permutations(\"are\"))\n"
   ]
  },
  {
   "cell_type": "code",
   "execution_count": null,
   "metadata": {},
   "outputs": [
    {
     "name": "stdout",
     "output_type": "stream",
     "text": [
      "ready we are\n"
     ]
    }
   ],
   "source": [
    "def reverse_sentence(sentence):\n",
    "    return \" \".join(sentence.split()[::-1])\n",
    "\n",
    "print(reverse_sentence(\"We are ready\"))"
   ]
  },
  {
   "cell_type": "code",
   "execution_count": 3,
   "metadata": {},
   "outputs": [
    {
     "name": "stdout",
     "output_type": "stream",
     "text": [
      "True\n",
      "False\n"
     ]
    }
   ],
   "source": [
    "def has_33(nums):\n",
    "    for i in range(len(nums) - 1):\n",
    "        if nums[i] == 3 and nums[i + 1] == 3:\n",
    "            return True\n",
    "    return False\n",
    "\n",
    "a = [1, 3, 3]\n",
    "b = [1, 3, 2 , 3]\n",
    "print(has_33(a))\n",
    "print(has_33(b))"
   ]
  },
  {
   "cell_type": "code",
   "execution_count": 5,
   "metadata": {},
   "outputs": [
    {
     "name": "stdout",
     "output_type": "stream",
     "text": [
      "False\n",
      "True\n"
     ]
    }
   ],
   "source": [
    "def spy_game(nums):\n",
    "    code = [0, 0, 7]\n",
    "    for num in nums:\n",
    "        if num == code[0]:\n",
    "            code.pop(0)\n",
    "        if not code:\n",
    "            return True\n",
    "    return False\n",
    "\n",
    "print(spy_game([1, 2 ,3]))\n",
    "print(spy_game([0,0,7]))"
   ]
  },
  {
   "cell_type": "code",
   "execution_count": null,
   "metadata": {},
   "outputs": [],
   "source": [
    "def sphere_volume(radius):\n",
    "    return (4/3) * 3.141592653589793 * (radius ** 3)"
   ]
  },
  {
   "cell_type": "code",
   "execution_count": 6,
   "metadata": {},
   "outputs": [
    {
     "name": "stdout",
     "output_type": "stream",
     "text": [
      "[1, 2, 3, 4, 5]\n"
     ]
    }
   ],
   "source": [
    "def unique_elements(lst):\n",
    "    unique_list = []\n",
    "    for item in lst:\n",
    "        if item not in unique_list:\n",
    "            unique_list.append(item)\n",
    "    return unique_list\n",
    "print(unique_elements([1, 2 ,3, 4 ,5]))"
   ]
  },
  {
   "cell_type": "code",
   "execution_count": null,
   "metadata": {},
   "outputs": [],
   "source": [
    "def is_palindrome(text):\n",
    "    text = text.replace(\" \", \"\").lower()\n",
    "    return text == text[::-1]"
   ]
  },
  {
   "cell_type": "code",
   "execution_count": null,
   "metadata": {},
   "outputs": [],
   "source": [
    "def histogram(lst):\n",
    "    for num in lst:\n",
    "        print('*' * num)\n"
   ]
  },
  {
   "cell_type": "code",
   "execution_count": null,
   "metadata": {},
   "outputs": [],
   "source": [
    "import random\n",
    "def guess_the_number():\n",
    "    name = input(\"Hello! What is your name?\\n\")\n",
    "    print(f\"\\nWell, {name}, I am thinking of a number between 1 and 20.\")\n",
    "    \n",
    "    number = random.randint(1, 20)\n",
    "    attempts = 0\n",
    "\n",
    "    while True:\n",
    "        guess = int(input(\"\\nTake a guess.\\n\"))\n",
    "        attempts += 1\n",
    "        \n",
    "        if guess < number:\n",
    "            print(\"\\nYour guess is too low.\")\n",
    "        elif guess > number:\n",
    "            print(\"\\nYour guess is too high.\")\n",
    "        else:\n",
    "            print(f\"\\nGood job, {name}! You guessed my number in {attempts} guesses!\")\n",
    "            break"
   ]
  },
  {
   "cell_type": "code",
   "execution_count": 7,
   "metadata": {},
   "outputs": [
    {
     "name": "stdout",
     "output_type": "stream",
     "text": [
      "True\n",
      "False\n"
     ]
    }
   ],
   "source": [
    "def is_high_rated(movie):\n",
    "    return movie[\"imdb\"] > 5.5\n",
    "\n",
    "print(is_high_rated({\"name\": \"Hitman\", \"imdb\": 6.3, \"category\": \"Action\"}))  \n",
    "print(is_high_rated({\"name\": \"AlphaJet\", \"imdb\": 3.2, \"category\": \"War\"}))  \n"
   ]
  },
  {
   "cell_type": "code",
   "execution_count": 9,
   "metadata": {},
   "outputs": [
    {
     "name": "stdout",
     "output_type": "stream",
     "text": [
      "[{'name': 'Usual Suspects', 'imdb': 7.0, 'category': 'Thriller'}, {'name': 'Hitman', 'imdb': 6.3, 'category': 'Action'}, {'name': 'Dark Knight', 'imdb': 9.0, 'category': 'Adventure'}, {'name': 'The Help', 'imdb': 8.0, 'category': 'Drama'}, {'name': 'The Choice', 'imdb': 6.2, 'category': 'Romance'}, {'name': 'Colonia', 'imdb': 7.4, 'category': 'Romance'}, {'name': 'Love', 'imdb': 6.0, 'category': 'Romance'}, {'name': 'Joking muck', 'imdb': 7.2, 'category': 'Comedy'}, {'name': 'What is the name', 'imdb': 9.2, 'category': 'Suspense'}, {'name': 'Detective', 'imdb': 7.0, 'category': 'Suspense'}, {'name': 'We Two', 'imdb': 7.2, 'category': 'Romance'}]\n"
     ]
    }
   ],
   "source": [
    "# Dictionary of movies\n",
    "\n",
    "movies = [\n",
    "{\n",
    "\"name\": \"Usual Suspects\", \n",
    "\"imdb\": 7.0,\n",
    "\"category\": \"Thriller\"\n",
    "},\n",
    "{\n",
    "\"name\": \"Hitman\",\n",
    "\"imdb\": 6.3,\n",
    "\"category\": \"Action\"\n",
    "},\n",
    "{\n",
    "\"name\": \"Dark Knight\",\n",
    "\"imdb\": 9.0,\n",
    "\"category\": \"Adventure\"\n",
    "},\n",
    "{\n",
    "\"name\": \"The Help\",\n",
    "\"imdb\": 8.0,\n",
    "\"category\": \"Drama\"\n",
    "},\n",
    "{\n",
    "\"name\": \"The Choice\",\n",
    "\"imdb\": 6.2,\n",
    "\"category\": \"Romance\"\n",
    "},\n",
    "{\n",
    "\"name\": \"Colonia\",\n",
    "\"imdb\": 7.4,\n",
    "\"category\": \"Romance\"\n",
    "},\n",
    "{\n",
    "\"name\": \"Love\",\n",
    "\"imdb\": 6.0,\n",
    "\"category\": \"Romance\"\n",
    "},\n",
    "{\n",
    "\"name\": \"Bride Wars\",\n",
    "\"imdb\": 5.4,\n",
    "\"category\": \"Romance\"\n",
    "},\n",
    "{\n",
    "\"name\": \"AlphaJet\",\n",
    "\"imdb\": 3.2,\n",
    "\"category\": \"War\"\n",
    "},\n",
    "{\n",
    "\"name\": \"Ringing Crime\",\n",
    "\"imdb\": 4.0,\n",
    "\"category\": \"Crime\"\n",
    "},\n",
    "{\n",
    "\"name\": \"Joking muck\",\n",
    "\"imdb\": 7.2,\n",
    "\"category\": \"Comedy\"\n",
    "},\n",
    "{\n",
    "\"name\": \"What is the name\",\n",
    "\"imdb\": 9.2,\n",
    "\"category\": \"Suspense\"\n",
    "},\n",
    "{\n",
    "\"name\": \"Detective\",\n",
    "\"imdb\": 7.0,\n",
    "\"category\": \"Suspense\"\n",
    "},\n",
    "{\n",
    "\"name\": \"Exam\",\n",
    "\"imdb\": 4.2,\n",
    "\"category\": \"Thriller\"\n",
    "},\n",
    "{\n",
    "\"name\": \"We Two\",\n",
    "\"imdb\": 7.2,\n",
    "\"category\": \"Romance\"\n",
    "}\n",
    "]\n",
    "def high_rated_movies(movies):\n",
    "    return [movie for movie in movies if movie[\"imdb\"] > 5.5]\n",
    "\n",
    "print(high_rated_movies(movies))"
   ]
  },
  {
   "cell_type": "code",
   "execution_count": 10,
   "metadata": {},
   "outputs": [
    {
     "name": "stdout",
     "output_type": "stream",
     "text": [
      "[{'name': 'The Choice', 'imdb': 6.2, 'category': 'Romance'}, {'name': 'Colonia', 'imdb': 7.4, 'category': 'Romance'}, {'name': 'Love', 'imdb': 6.0, 'category': 'Romance'}, {'name': 'Bride Wars', 'imdb': 5.4, 'category': 'Romance'}, {'name': 'We Two', 'imdb': 7.2, 'category': 'Romance'}]\n"
     ]
    }
   ],
   "source": [
    "def movies_by_category(movies, category):\n",
    "    return [movie for movie in movies if movie[\"category\"].lower() == category.lower()]\n",
    "\n",
    "print(movies_by_category(movies, \"Romance\"))"
   ]
  },
  {
   "cell_type": "code",
   "execution_count": null,
   "metadata": {},
   "outputs": [
    {
     "name": "stdout",
     "output_type": "stream",
     "text": [
      "6.486666666666667\n"
     ]
    }
   ],
   "source": [
    "def average_imdb_score(movies):\n",
    "    if not movies:\n",
    "        return 0  \n",
    "    return sum(movie[\"imdb\"] for movie in movies) / len(movies)\n",
    "print(average_imdb_score(movies))"
   ]
  },
  {
   "cell_type": "code",
   "execution_count": 13,
   "metadata": {},
   "outputs": [
    {
     "name": "stdout",
     "output_type": "stream",
     "text": [
      "6.44\n"
     ]
    }
   ],
   "source": [
    "def movies_by_category(movies, category):\n",
    "    return [movie for movie in movies if movie[\"category\"].lower() == category.lower()]\n",
    "def average_imdb_score(movies):\n",
    "    if not movies:\n",
    "        return 0  \n",
    "    return sum(movie[\"imdb\"] for movie in movies) / len(movies)\n",
    "def average_imdb_by_category(movies, category):\n",
    "    category_movies = movies_by_category(movies, category)\n",
    "    return average_imdb_score(category_movies)\n",
    "print(average_imdb_by_category(movies, \"Romance\"))"
   ]
  }
 ],
 "metadata": {
  "kernelspec": {
   "display_name": "Python 3",
   "language": "python",
   "name": "python3"
  },
  "language_info": {
   "codemirror_mode": {
    "name": "ipython",
    "version": 3
   },
   "file_extension": ".py",
   "mimetype": "text/x-python",
   "name": "python",
   "nbconvert_exporter": "python",
   "pygments_lexer": "ipython3",
   "version": "3.11.4"
  }
 },
 "nbformat": 4,
 "nbformat_minor": 2
}
